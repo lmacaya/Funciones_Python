{
 "cells": [
  {
   "cell_type": "markdown",
   "metadata": {},
   "source": [
    "### Modificado desde Introducción a Python para ciencias e ingenierías (notebook 2)\n",
    "Ing. Martín Gaitán\n",
    "\n",
    "Twitter: @tin_nqn_"
   ]
  },
  {
   "cell_type": "markdown",
   "metadata": {},
   "source": [
    "## Funciones\n",
    "\n",
    "\n",
    "Hasta ahora hemos definido código en una celda: declaramos parámetros en variables, luego hacemos alguna operación e imprimimos y/o devolvemos un resultado. \n",
    "\n",
    "Para generalizar esto podemos declarar **funciones**, de manera de que no sea necesario redefinir variables en el código para calcular/realizar nuestra operación con diferentes parámetros. En Python las funciones se definen con la sentencia `def` y con `return` se devuelve un valor"
   ]
  },
  {
   "cell_type": "code",
   "execution_count": 1,
   "metadata": {},
   "outputs": [],
   "source": [
    "def cuadrado(numero):\n",
    "    \"\"\"Dado un escalar, devuelve su potencia cuadrada\"\"\"\n",
    "    resulta = numero**2\n",
    "    return resulta"
   ]
  },
  {
   "cell_type": "code",
   "execution_count": 2,
   "metadata": {},
   "outputs": [
    {
     "data": {
      "text/plain": [
       "9"
      ]
     },
     "execution_count": 2,
     "metadata": {},
     "output_type": "execute_result"
    }
   ],
   "source": [
    "cuadrado(3)"
   ]
  },
  {
   "cell_type": "code",
   "execution_count": 3,
   "metadata": {},
   "outputs": [
    {
     "data": {
      "text/plain": [
       "4e+20"
      ]
     },
     "execution_count": 3,
     "metadata": {},
     "output_type": "execute_result"
    }
   ],
   "source": [
    "cuadrado(2e10)"
   ]
  },
  {
   "cell_type": "code",
   "execution_count": 4,
   "metadata": {},
   "outputs": [
    {
     "data": {
      "text/plain": [
       "(24-10j)"
      ]
     },
     "execution_count": 4,
     "metadata": {},
     "output_type": "execute_result"
    }
   ],
   "source": [
    "cuadrado(5-1j)"
   ]
  },
  {
   "cell_type": "code",
   "execution_count": 5,
   "metadata": {},
   "outputs": [
    {
     "data": {
      "text/plain": [
       "25"
      ]
     },
     "execution_count": 5,
     "metadata": {},
     "output_type": "execute_result"
    }
   ],
   "source": [
    "cuadrado(3 + 2)"
   ]
  },
  {
   "cell_type": "markdown",
   "metadata": {},
   "source": [
    "Notar que no **exigimos un tipo de dato** en la signatura. Python es dinámico: se esperan **comportamientos** en vez de tipos. Un tipo de datos puede implementar distintos comportamientos y *\"funcionar\"* \n",
    "\n",
    "Si un número, cualquiera sea su tipo, puede elevarse al cuadrado, ¿por qué deberíamos hacer una función equivalente para enteros, otra para flotantes de simple precisión y otra para complejos como se hace en otros lenguajes?\n",
    "\n",
    "Esto es lo que se conoce como **[Duck typing](https://es.wikipedia.org/wiki/Duck_typing)**, que es el estilo de orientación a objetos que utiliza Python. \n",
    "\n",
    "   *\"Cuando veo un ave que camina como un pato, nada como un pato y suena como un pato, a esa ave yo la llamo un pato.\"*\n",
    "\n"
   ]
  },
  {
   "cell_type": "code",
   "execution_count": 6,
   "metadata": {},
   "outputs": [
    {
     "ename": "TypeError",
     "evalue": "unsupported operand type(s) for ** or pow(): 'str' and 'int'",
     "output_type": "error",
     "traceback": [
      "\u001b[0;31m---------------------------------------------------------------------------\u001b[0m",
      "\u001b[0;31mTypeError\u001b[0m                                 Traceback (most recent call last)",
      "\u001b[0;32m<ipython-input-6-fd29db68f1a2>\u001b[0m in \u001b[0;36m<module>\u001b[0;34m()\u001b[0m\n\u001b[0;32m----> 1\u001b[0;31m \u001b[0mcuadrado\u001b[0m\u001b[0;34m(\u001b[0m\u001b[0;34m\"hola mundo\"\u001b[0m\u001b[0;34m)\u001b[0m\u001b[0;34m\u001b[0m\u001b[0m\n\u001b[0m",
      "\u001b[0;32m<ipython-input-1-c97145cbea69>\u001b[0m in \u001b[0;36mcuadrado\u001b[0;34m(numero)\u001b[0m\n\u001b[1;32m      1\u001b[0m \u001b[0;32mdef\u001b[0m \u001b[0mcuadrado\u001b[0m\u001b[0;34m(\u001b[0m\u001b[0mnumero\u001b[0m\u001b[0;34m)\u001b[0m\u001b[0;34m:\u001b[0m\u001b[0;34m\u001b[0m\u001b[0m\n\u001b[1;32m      2\u001b[0m     \u001b[0;34m\"\"\"Dado un escalar, devuelve su potencia cuadrada\"\"\"\u001b[0m\u001b[0;34m\u001b[0m\u001b[0m\n\u001b[0;32m----> 3\u001b[0;31m     \u001b[0mresulta\u001b[0m \u001b[0;34m=\u001b[0m \u001b[0mnumero\u001b[0m\u001b[0;34m**\u001b[0m\u001b[0;36m2\u001b[0m\u001b[0;34m\u001b[0m\u001b[0m\n\u001b[0m\u001b[1;32m      4\u001b[0m     \u001b[0;32mreturn\u001b[0m \u001b[0mresulta\u001b[0m\u001b[0;34m\u001b[0m\u001b[0m\n",
      "\u001b[0;31mTypeError\u001b[0m: unsupported operand type(s) for ** or pow(): 'str' and 'int'"
     ]
    }
   ],
   "source": [
    "cuadrado(\"hola mundo\")"
   ]
  },
  {
   "cell_type": "code",
   "execution_count": 7,
   "metadata": {},
   "outputs": [
    {
     "data": {
      "text/plain": [
       "True"
      ]
     },
     "execution_count": 7,
     "metadata": {},
     "output_type": "execute_result"
    }
   ],
   "source": [
    "type(3) == int"
   ]
  },
  {
   "cell_type": "markdown",
   "metadata": {},
   "source": [
    "Obviamente, si el objeto (el tipo del objeto) que pasamos no soporta el comportamiento que esperamos (en este caso no se puede \"elevar al cuadrado\" una cadena) fallará. \n",
    "\n",
    "Pero es mejor que nos avise del error, ¿no? ¿Por qué querríamos elevar una cadena al cuadrado? ¿qué significado tendría?\n",
    "\n",
    "\n",
    "![](http://img.desmotivaciones.es/201109/CliffRobertsonSpiderman1.jpg)\n",
    "\n",
    "\n",
    "\n",
    "\n",
    "#### Parámetros y más parámetros\n",
    "\n",
    "La definción de funciones es muy flexible. No exige ni siquiera pasar parámetros o devolver resultados\n"
   ]
  },
  {
   "cell_type": "code",
   "execution_count": 18,
   "metadata": {},
   "outputs": [
    {
     "name": "stdout",
     "output_type": "stream",
     "text": [
      "¡Hola curso de extension!\n"
     ]
    }
   ],
   "source": [
    "# definimos una funcion que no recibe ni devuelve parámetros pero hace algo. \n",
    "def hola():\n",
    "    \"\"\"\n",
    "    una función que saluda\n",
    "    de una manera muy amable\n",
    "    \n",
    "    \"\"\"\n",
    "    print(\"¡Hola curso de extension!\")\n",
    "\n",
    "hola()   # llamamos a esa función"
   ]
  },
  {
   "cell_type": "code",
   "execution_count": 10,
   "metadata": {},
   "outputs": [
    {
     "name": "stdout",
     "output_type": "stream",
     "text": [
      "¡Hola curso de extension!\n",
      "None\n"
     ]
    }
   ],
   "source": [
    "print(hola())"
   ]
  },
  {
   "cell_type": "markdown",
   "metadata": {},
   "source": [
    "Si la función no tiene un `return`, lo que devuelve es `None`."
   ]
  },
  {
   "cell_type": "code",
   "execution_count": 12,
   "metadata": {},
   "outputs": [
    {
     "name": "stdout",
     "output_type": "stream",
     "text": [
      "¡Hola curso de extension!\n"
     ]
    }
   ],
   "source": [
    "saludo = hola()"
   ]
  },
  {
   "cell_type": "markdown",
   "metadata": {
    "collapsed": true
   },
   "source": [
    "### Un paréntesis: docstrings\n",
    "\n",
    "Módulos, funciones, métodos y clases pueden tener una \"cadena de documentación\", que se define como un string \n",
    "en la primera linea del cuerpo. Python automáticamente asigna esa cadena al atributo `__doc__` del objeto en cuestión.\n",
    "\n",
    "Los `docstrings` **son opcionales pero muy recomendados**, porque a diferencia de los comentarios (que se ponen con `#`), son los que se muestran en la ayuda interactiva y tambien pueden post-procesarse para generar documentación de referencia automática\n",
    "\n"
   ]
  },
  {
   "cell_type": "code",
   "execution_count": 19,
   "metadata": {},
   "outputs": [
    {
     "name": "stdout",
     "output_type": "stream",
     "text": [
      "\n",
      "    una función que saluda\n",
      "    de una manera muy amable\n",
      "    \n",
      "    \n"
     ]
    }
   ],
   "source": [
    "print(hola.__doc__)"
   ]
  },
  {
   "cell_type": "markdown",
   "metadata": {},
   "source": [
    "Tip: `__doc__` es un atributo que se puede escribir, por lo tanto podríamos asignarle un texto construído dinámicamente"
   ]
  },
  {
   "cell_type": "code",
   "execution_count": null,
   "metadata": {},
   "outputs": [],
   "source": [
    "hola.__doc__ = 'hola'\n",
    "hola.__doc__"
   ]
  },
  {
   "cell_type": "markdown",
   "metadata": {},
   "source": [
    "#### Múltiples puntos de salida\n",
    "\n",
    "También puede haber múltiples `return` en una función. El primero en ejecutarse determinará el valor que la función devuelve"
   ]
  },
  {
   "cell_type": "code",
   "execution_count": 73,
   "metadata": {},
   "outputs": [
    {
     "data": {
      "text/plain": [
       "'Hola chochamus!'"
      ]
     },
     "execution_count": 73,
     "metadata": {},
     "output_type": "execute_result"
    }
   ],
   "source": [
    "def saludo(coloquial):\n",
    "    if coloquial:\n",
    "        VAL = \"Hola chochamus!\"\n",
    "        return VAL\n",
    "    else:\n",
    "        return \"Buenas tardes, señores\"\n",
    "    \n",
    "    # Esto tambien podria ser una linea con la estructura ternaria\n",
    "    # return \"Hola chochamus!\" if coloquial else  \"Buenas tardes, señores\"\n",
    "    \n",
    "\n",
    "saludo(1)"
   ]
  },
  {
   "cell_type": "code",
   "execution_count": 74,
   "metadata": {},
   "outputs": [
    {
     "data": {
      "text/plain": [
       "'Hola chochamus!'"
      ]
     },
     "execution_count": 74,
     "metadata": {},
     "output_type": "execute_result"
    }
   ],
   "source": [
    "saludo(coloquial=True)"
   ]
  },
  {
   "cell_type": "markdown",
   "metadata": {},
   "source": [
    "### Parámetros opcionales\n",
    "\n",
    "Se pueden definir parámetros opcionales, que **toman un valor *default* ** cuando no se los explicíta"
   ]
  },
  {
   "cell_type": "markdown",
   "metadata": {},
   "source": [
    "La función `saluda` recibe un parámetro requerido `nombre` (es requerido porque no tiene valor por omisión)  y dos parámetros opcionales (`saludo` y `sufijo`). \n",
    "\n",
    "- Si sólo paso 1 parámetro será `nombre` y los valores default se usarán para los otros parámetros \n",
    "- Si paso 2 se usaran para `nombre` y `saludo` mientras que `sufijo` usará el default\n",
    "- Si paso todos los parámetros no se usaran los valores por omisión.\n"
   ]
  },
  {
   "cell_type": "code",
   "execution_count": 20,
   "metadata": {},
   "outputs": [
    {
     "name": "stdout",
     "output_type": "stream",
     "text": [
      "Hola Martín, ¿qué tal?\n",
      "Ey Fernando, ¿qué tal?\n",
      "Estimado Lionel Messi, usted es un genio\n"
     ]
    }
   ],
   "source": [
    "def saludar(nombre, saludo=\"Hola\", sufijo=\"¿qué tal?\"):\n",
    "    \"\"\"Dado un nombre y, opcionalmente, un saludo y/o sufijo, devuelve \n",
    "    una cadena saludo + nombre + sufijo\"\"\"\n",
    "    \n",
    "    return \"{} {}, {}\".format(saludo, nombre, sufijo)  \n",
    "\n",
    "print(saludar(\"Martín\"))\n",
    "print(saludar(\"Fernando\", 'Ey'))\n",
    "print(saludar(\"Lionel Messi\", \"Estimado\", 'usted es un genio'))"
   ]
  },
  {
   "cell_type": "code",
   "execution_count": 21,
   "metadata": {},
   "outputs": [
    {
     "data": {
      "text/plain": [
       "'Hola oscar, ¿qué tal?'"
      ]
     },
     "execution_count": 21,
     "metadata": {},
     "output_type": "execute_result"
    }
   ],
   "source": [
    "saludar('oscar')"
   ]
  },
  {
   "cell_type": "markdown",
   "metadata": {},
   "source": [
    "Pero ¿qué pasa si quiero usar el default para `saludo` pero no para `sufijo`? \n",
    "\n",
    "Podemos pasar los **parámetros por nombre**"
   ]
  },
  {
   "cell_type": "code",
   "execution_count": 78,
   "metadata": {},
   "outputs": [
    {
     "data": {
      "text/plain": [
       "'Hola Lionel, que golazo hiciste'"
      ]
     },
     "execution_count": 78,
     "metadata": {},
     "output_type": "execute_result"
    }
   ],
   "source": [
    "saludar('Lionel', sufijo=\"que golazo hiciste\")    # saludo no se explicitó, se usa el default (\"Hola\")"
   ]
  },
  {
   "cell_type": "markdown",
   "metadata": {},
   "source": [
    "Entre los parámetros por nombre no importa el órden, pero si mezclamos las dos formas, los **parámetros por posición, deben ir antes** de los parámetros por nombre. "
   ]
  },
  {
   "cell_type": "markdown",
   "metadata": {},
   "source": [
    "#### Ejercicios\n",
    "\n",
    "1. Definir una función para encontrar las raíces en el plano real en la ecuación de segundo grado  \n",
    "$$x_{1,2} = \\frac{-b \\pm \\sqrt {b^2-4ac}}{2a}$$ El parámetro `a` es obligatorio, y `b` y `c` son opcionales con default 0. Devuelve una tupla con ambas raices. Luego mejore la implemtación para encontrar también las raices en el plano complejo cuando sea necesario. \n",
    "\n",
    "2. Definir una función `marquesina` que, dado un objeto, la devuelve como un texto decorado en una caja. El, ancho, alto del relleno y el caracter de decoración son parámetros opcionales. Por ejemplo, dada `\"Hola\"`, devuelve\n",
    "\n",
    "```\n",
    "     *****************\n",
    "     *      Hola     *\n",
    "     *****************\n",
    "```\n",
    "\n",
    "\n",
    "\n",
    "<!-- \n",
    "\n",
    " https://gist.githubusercontent.com/mgaitan/cb0ad9778453607acb49/raw/8d85d2184a4b46b48440cf5b5d95062801a08cce/baskara.py \n",
    "\n",
    "https://gist.githubusercontent.com/mgaitan/6319640/raw/8183dc5b214397f0ff2d38a25ebdd128a1a3ca0f/gistfile1.txt \n",
    "//-->"
   ]
  },
  {
   "cell_type": "code",
   "execution_count": 56,
   "metadata": {},
   "outputs": [
    {
     "data": {
      "text/plain": [
       "(4.0, 4.0)"
      ]
     },
     "execution_count": 56,
     "metadata": {},
     "output_type": "execute_result"
    }
   ],
   "source": [
    "# %load https://gist.githubusercontent.com/mgaitan/cb0ad9778453607acb49/raw/8d85d2184a4b46b48440cf5b5d95062801a08cce/baskara.py\n",
    "def raices(a, b=0, c=0):\n",
    "    \"\"\"dados los coeficientes, encuentra los valores de x tal que ax^2 + bx + c = 0\"\"\"\n",
    "\n",
    "    discriminante = (b**2 - 4*a*c)**0.5\n",
    "    x1 = (-b + discriminante)/(2*a)\n",
    "    x2 = (-b - discriminante)/(2*a)\n",
    "    return (x1, x2)\n",
    "    \n",
    "raices(1, -8, 16)"
   ]
  },
  {
   "cell_type": "code",
   "execution_count": 42,
   "metadata": {},
   "outputs": [
    {
     "name": "stdout",
     "output_type": "stream",
     "text": [
      "************************************************************\n",
      "*                                                          *\n",
      "*                                                          *\n",
      "*                           Hola                           *\n",
      "*                                                          *\n",
      "*                                                          *\n",
      "************************************************************\n"
     ]
    }
   ],
   "source": [
    "# %load https://gist.githubusercontent.com/mgaitan/6319640/raw/8183dc5b214397f0ff2d38a25ebdd128a1a3ca0f/gistfile1.txt\n",
    "def marquesina(cadena, ancho=60, espaciado=1, caracter=\"*\"):\n",
    "    cadena = str(cadena).center(ancho)\n",
    "    cadena = caracter + cadena[1:-1] + caracter\n",
    "    cadena += '\\n'\n",
    "    relleno = \" \" * ancho\n",
    "    relleno = caracter + relleno[1:-1] + caracter\n",
    "    relleno += '\\n'\n",
    "    tapa = caracter * ancho\n",
    "    return tapa + '\\n' + relleno * espaciado + cadena + relleno * espaciado + tapa\n",
    "\n",
    "print(marquesina(\"Hola\", espaciado=2))"
   ]
  },
  {
   "cell_type": "code",
   "execution_count": 41,
   "metadata": {},
   "outputs": [
    {
     "name": "stdout",
     "output_type": "stream",
     "text": [
      "!!!!!!!!!!!!!!!!!!!!!!!!!!!!!!!!!!!!!!!!!!!!!!!!!!!!!!!!!!!!\n",
      "!                                                          !\n",
      "!                         Boquita                          !\n",
      "!                                                          !\n",
      "!!!!!!!!!!!!!!!!!!!!!!!!!!!!!!!!!!!!!!!!!!!!!!!!!!!!!!!!!!!!\n"
     ]
    }
   ],
   "source": [
    "print(marquesina('Boquita', caracter='!'))"
   ]
  },
  {
   "cell_type": "markdown",
   "metadata": {},
   "source": [
    "### Parámetros arbitrarios: `*args` y `**kwargs`\n",
    "\n",
    "Hasta acá todo bonito. Pero ¿qué tal si quiero definir una función que acepte una cantidad arbitraria de parámetros? Acá vienen `*args` y `**kwargs`. Por ejemplo la función `zip` recibe una cantidad arbitraria de iteradores y devuelve tuplas con los i-elementos de cada una"
   ]
  },
  {
   "cell_type": "code",
   "execution_count": 43,
   "metadata": {},
   "outputs": [
    {
     "data": {
      "text/plain": [
       "[(1, 'a', 'alfa'), (2, 'b', 'beta'), (3, 'c', 'gama')]"
      ]
     },
     "execution_count": 43,
     "metadata": {},
     "output_type": "execute_result"
    }
   ],
   "source": [
    "list(zip((1, 2, 3), ('a', 'b', 'c'), ('alfa', 'beta', 'gama', 'theta')))"
   ]
  },
  {
   "cell_type": "markdown",
   "metadata": {},
   "source": [
    "Entonces ¿cómo definiríamos una función al estilo  `zip` que recibe cuantos argumentos queramos?"
   ]
  },
  {
   "cell_type": "code",
   "execution_count": 86,
   "metadata": {},
   "outputs": [],
   "source": [
    "def prod(*args):\n",
    "    \"\"\"\n",
    "    calcula la productoria de todos los argumentos dados\n",
    "    \"\"\"\n",
    "    \n",
    "    # print(args)           # args es una tupla de los argumentos posicionales dados. \n",
    "    producto = 1\n",
    "    for num in args:        \n",
    "        producto *= num     # igual a producto = producto * num\n",
    "    return producto"
   ]
  },
  {
   "cell_type": "code",
   "execution_count": 87,
   "metadata": {},
   "outputs": [
    {
     "data": {
      "text/plain": [
       "24"
      ]
     },
     "execution_count": 87,
     "metadata": {},
     "output_type": "execute_result"
    }
   ],
   "source": [
    "prod(3, 4, 2)"
   ]
  },
  {
   "cell_type": "code",
   "execution_count": 89,
   "metadata": {},
   "outputs": [
    {
     "data": {
      "text/plain": [
       "420.0"
      ]
     },
     "execution_count": 89,
     "metadata": {},
     "output_type": "execute_result"
    }
   ],
   "source": [
    "prod(10, 20, 2.1)"
   ]
  },
  {
   "cell_type": "markdown",
   "metadata": {},
   "source": [
    "Por otro lado, tenemos como ejemplo el constructor `dict` que acepta una argumentos arbitrarios por clave para crear un diccionario"
   ]
  },
  {
   "cell_type": "code",
   "execution_count": 92,
   "metadata": {},
   "outputs": [
    {
     "data": {
      "text/plain": [
       "{'Carlitos': 10, 'Gaitán': 'Jugador Nº 12', 'Gonzales': 'no juega'}"
      ]
     },
     "execution_count": 92,
     "metadata": {},
     "output_type": "execute_result"
    }
   ],
   "source": [
    "dict(Carlitos=10, Gaitán='Jugador Nº 12', Gonzales= 'no juega')"
   ]
  },
  {
   "cell_type": "markdown",
   "metadata": {},
   "source": [
    "¿Cómo definir una función que permita esa flexibilidad? Eso se hace con `**kwarg`"
   ]
  },
  {
   "cell_type": "code",
   "execution_count": 44,
   "metadata": {},
   "outputs": [],
   "source": [
    "def itemizar(**kwargs):\n",
    "    \"\"\"genera una lista de items con todos los argumentos dados\"\"\"\n",
    "    for clave, valor in kwargs.items():\n",
    "        print('* {0} ({1})'.format(clave, valor))"
   ]
  },
  {
   "cell_type": "code",
   "execution_count": 45,
   "metadata": {},
   "outputs": [
    {
     "name": "stdout",
     "output_type": "stream",
     "text": [
      "* tornillos (10)\n",
      "* lija (2)\n",
      "* cualquiera (10)\n",
      "* cosa (40)\n"
     ]
    }
   ],
   "source": [
    "itemizar(tornillos=10, lija=2, cualquiera=10, cosa=40)"
   ]
  },
  {
   "cell_type": "markdown",
   "metadata": {},
   "source": [
    "En resúmen, con `*args` se indica *\"mapear todos los argumentos posicionales no explícitos a una tupla llamada `args`\"*. Y con `**kwargs` se indica \"mapear todos los argumentos de palabra clave no explícitos a un diccionario llamado `kwargs`\"."
   ]
  },
  {
   "cell_type": "code",
   "execution_count": 96,
   "metadata": {},
   "outputs": [],
   "source": [
    "def f(a1,*args,**kwargs):\n",
    "    print('a1=', a1)\n",
    "    print('args=', args)\n",
    "    print('kwargs=', kwargs)\n"
   ]
  },
  {
   "cell_type": "code",
   "execution_count": 97,
   "metadata": {},
   "outputs": [
    {
     "name": "stdout",
     "output_type": "stream",
     "text": [
      "a1= 4\n",
      "args= ()\n",
      "kwargs= {}\n"
     ]
    }
   ],
   "source": [
    "f(4)   # solo definido el parámetro común a"
   ]
  },
  {
   "cell_type": "code",
   "execution_count": 98,
   "metadata": {},
   "outputs": [
    {
     "name": "stdout",
     "output_type": "stream",
     "text": [
      "a1= valor\n",
      "args= (1, 2)\n",
      "kwargs= {}\n"
     ]
    }
   ],
   "source": [
    "f('valor', 1, 2)    # 'a1' y dos argumentos posicionales arbitrarios"
   ]
  },
  {
   "cell_type": "code",
   "execution_count": 99,
   "metadata": {},
   "outputs": [
    {
     "name": "stdout",
     "output_type": "stream",
     "text": [
      "a1= 2\n",
      "args= (1, 2)\n",
      "kwargs= {'detallado': True, 'color': 'azul'}\n"
     ]
    }
   ],
   "source": [
    "f('2', 1, 2, color='azul', detallado=True)   # "
   ]
  },
  {
   "cell_type": "markdown",
   "metadata": {},
   "source": [
    "\n",
    "\n",
    "** NOTA **: No es necesario los nombres \"args\" y \"kwargs\", podemos llamarlas diferente! los simbolos que indican cantidades arbitrarias de parametros son `*` y `**`. Además es posible poner parametros \"comunes\" antes de los parametros arbritarios.\n",
    "\n",
    "\n",
    "\n"
   ]
  },
  {
   "cell_type": "markdown",
   "metadata": {},
   "source": [
    "\n",
    "### La inversa: Desempacar secuencias o diccionarios directamente como argumentos\n",
    "\n",
    "Si ya tengo los parámetros que quiero pasar a una función, los \"desempaco\". \n"
   ]
  },
  {
   "cell_type": "code",
   "execution_count": 100,
   "metadata": {},
   "outputs": [
    {
     "data": {
      "text/plain": [
       "'Che José, sos vivo?'"
      ]
     },
     "execution_count": 100,
     "metadata": {},
     "output_type": "execute_result"
    }
   ],
   "source": [
    "otra_data = ('Che', 'sos vivo?')\n",
    "\n",
    "saludo, sufijo = otra_data\n",
    "\n",
    "saludar('José', saludo, sufijo)   # el primer elemento desempacado, va al primer arg posicional disponible... \n"
   ]
  },
  {
   "cell_type": "code",
   "execution_count": 102,
   "metadata": {},
   "outputs": [
    {
     "data": {
      "text/plain": [
       "'Che José, sos vivo?'"
      ]
     },
     "execution_count": 102,
     "metadata": {},
     "output_type": "execute_result"
    }
   ],
   "source": [
    "saludar('José', *otra_data)"
   ]
  },
  {
   "cell_type": "code",
   "execution_count": null,
   "metadata": {
    "collapsed": true
   },
   "outputs": [],
   "source": [
    "saludar??"
   ]
  },
  {
   "cell_type": "code",
   "execution_count": 60,
   "metadata": {},
   "outputs": [
    {
     "data": {
      "text/plain": [
       "'Ey Cristian, qué onda?'"
      ]
     },
     "execution_count": 60,
     "metadata": {},
     "output_type": "execute_result"
    }
   ],
   "source": [
    "mi_data = {'nombre': 'Cristian', 'saludo': 'Ey', 'sufijo': 'qué onda?'}\n",
    "\n",
    "saludar(**mi_data)"
   ]
  },
  {
   "cell_type": "code",
   "execution_count": 61,
   "metadata": {},
   "outputs": [],
   "source": [
    "def saludar2(nombre, saludo=\"Hola\", sufijo=\"¿qué tal?\", **kwargs):\n",
    "    \"\"\"Dado un nombre y, opcionalmente, un saludo y/o sufijo, devuelve \n",
    "    una cadena saludo + nombre + sufijo\"\"\"\n",
    "    \n",
    "    return \"{saludo} {nombre}, {sufijo}\".format(**locals())  #la funcion locals() devuelve el diccionario de todos los objetos definidos en el espacio de nombres"
   ]
  },
  {
   "cell_type": "code",
   "execution_count": 62,
   "metadata": {},
   "outputs": [
    {
     "data": {
      "text/plain": [
       "'Ey Cristian, qué onda?'"
      ]
     },
     "execution_count": 62,
     "metadata": {},
     "output_type": "execute_result"
    }
   ],
   "source": [
    "saludar2(**mi_data)"
   ]
  },
  {
   "cell_type": "markdown",
   "metadata": {},
   "source": [
    "Obviamente, si pasamos más parámetros de los esperados por la función (y no permite parámetros arbritrarios), dará un error"
   ]
  },
  {
   "cell_type": "code",
   "execution_count": 65,
   "metadata": {},
   "outputs": [
    {
     "ename": "TypeError",
     "evalue": "saludar() got an unexpected keyword argument 'color'",
     "output_type": "error",
     "traceback": [
      "\u001b[0;31m---------------------------------------------------------------------------\u001b[0m",
      "\u001b[0;31mTypeError\u001b[0m                                 Traceback (most recent call last)",
      "\u001b[0;32m<ipython-input-65-c133dc9e7593>\u001b[0m in \u001b[0;36m<module>\u001b[0;34m()\u001b[0m\n\u001b[1;32m      1\u001b[0m \u001b[0mmi_data\u001b[0m \u001b[0;34m=\u001b[0m \u001b[0;34m{\u001b[0m\u001b[0;34m'nombre'\u001b[0m\u001b[0;34m:\u001b[0m \u001b[0;34m'Cristian'\u001b[0m\u001b[0;34m,\u001b[0m \u001b[0;34m'saludo'\u001b[0m\u001b[0;34m:\u001b[0m \u001b[0;34m'Ey'\u001b[0m\u001b[0;34m,\u001b[0m \u001b[0;34m'sufijo'\u001b[0m\u001b[0;34m:\u001b[0m \u001b[0;34m'qué onda'\u001b[0m\u001b[0;34m,\u001b[0m \u001b[0;34m'color'\u001b[0m\u001b[0;34m:\u001b[0m \u001b[0;34m'roja'\u001b[0m\u001b[0;34m}\u001b[0m\u001b[0;34m\u001b[0m\u001b[0m\n\u001b[0;32m----> 2\u001b[0;31m \u001b[0msaludar\u001b[0m\u001b[0;34m(\u001b[0m\u001b[0;34m**\u001b[0m\u001b[0mmi_data\u001b[0m\u001b[0;34m)\u001b[0m\u001b[0;34m\u001b[0m\u001b[0m\n\u001b[0m",
      "\u001b[0;31mTypeError\u001b[0m: saludar() got an unexpected keyword argument 'color'"
     ]
    }
   ],
   "source": [
    "mi_data = {'nombre': 'Cristian', 'saludo': 'Ey', 'sufijo': 'qué onda', 'color': 'roja'}\n",
    "saludar(**mi_data)"
   ]
  },
  {
   "cell_type": "markdown",
   "metadata": {},
   "source": [
    "### Ejercicios\n",
    "\n",
    "1. Dada las función `prod` y `marquesina` definidas con anterioridad, redefina `prod` agregando un parámetro opcional `enmamarcar` (`False` por defecto) que si es verdadero devuelve el resultado de la productoria en una marquesina. Cualquier otro parámetro se pasa directamente a la función marquesina. \n",
    "\n",
    "<!-- https://gist.githubusercontent.com/mgaitan/6bda75780aa826b45d09/raw/a1fb74873c98f4dff1b3689dae7246c490fb88ec/prod_enmarcable.py -->\n"
   ]
  },
  {
   "cell_type": "code",
   "execution_count": 25,
   "metadata": {},
   "outputs": [],
   "source": [
    "# %load https://gist.githubusercontent.com/mgaitan/6bda75780aa826b45d09/raw/a1fb74873c98f4dff1b3689dae7246c490fb88ec/prod_enmarcable.py\n",
    "def prod(*args, enmarcar=False, **kwargs):\n",
    "    \"\"\"\n",
    "    calcula la productoria de todos los argumentos dados\n",
    "    \"\"\"\n",
    "    \n",
    "    # print(args)           # args es una tupla de los argumentos posicionales dados. \n",
    "    producto = 1\n",
    "    for num in args:        \n",
    "        producto *= num     # igual a producto = producto * num\n",
    "    if enmarcar:\n",
    "        return marquesina(producto, **kwargs)\n",
    "    return producto"
   ]
  },
  {
   "cell_type": "code",
   "execution_count": 66,
   "metadata": {},
   "outputs": [
    {
     "name": "stdout",
     "output_type": "stream",
     "text": [
      "************************************************************\n",
      "*                                                          *\n",
      "*                                                          *\n",
      "*                                                          *\n",
      "*                            10                            *\n",
      "*                                                          *\n",
      "*                                                          *\n",
      "*                                                          *\n",
      "************************************************************\n"
     ]
    }
   ],
   "source": [
    "print(prod(1, 2, 5, enmarcar=True, ancho=60, espaciado=3))"
   ]
  },
  {
   "cell_type": "markdown",
   "metadata": {},
   "source": [
    "### Argumentos *sólo por nombre*\n",
    "\n",
    "La posibilidad pasar una cantidad arbitraria de argumentos, sea por posición o por nombre, es una ventaja que vuelve a Python muy poderoso. \n",
    "\n",
    "Una limitación que existía en Python 2 era que no se podían definir argumentos por nombre luego de un `*args`\n",
    "\n"
   ]
  },
  {
   "cell_type": "code",
   "execution_count": 46,
   "metadata": {},
   "outputs": [
    {
     "name": "stderr",
     "output_type": "stream",
     "text": [
      "  File \"<stdin>\", line 3\n",
      "    def f(*args, mayus=False):\n",
      "                     ^\n",
      "SyntaxError: invalid syntax\n"
     ]
    }
   ],
   "source": [
    "%%python2   \n",
    "\n",
    "# ese magic ^ ejecuta esta celda con python2\n",
    "def f(*args, mayus=False):\n",
    "    s = ' '.join(args)\n",
    "    return s.upper() if mayus else s\n",
    "\n",
    "f('hola', 'curso1', mayus=True)"
   ]
  },
  {
   "cell_type": "code",
   "execution_count": 122,
   "metadata": {},
   "outputs": [
    {
     "data": {
      "text/plain": [
       "'HOLA CURSO!'"
      ]
     },
     "execution_count": 122,
     "metadata": {},
     "output_type": "execute_result"
    }
   ],
   "source": [
    "def f(*args, mayus=False):\n",
    "    s = ' '.join(args)\n",
    "    return s.upper() if mayus else s\n",
    "\n",
    "f('hola', 'curso!', mayus=True)"
   ]
  },
  {
   "cell_type": "markdown",
   "metadata": {},
   "source": [
    "Obviamente, en ese caso la única forma de \"setear\" la opción `mayus` es a **explícitamente a través del nombre**, porque de otra manera el argumento sería capturado por la tupla de argumentos posicionales `*args`. \n",
    "\n",
    "Más aun, Python 3 también permite este tipo de **argumentos sólo por nombre** sin estar precedidos por argumentos variables y muchas veces son muy útiles. \n",
    "\n"
   ]
  },
  {
   "cell_type": "code",
   "execution_count": 69,
   "metadata": {},
   "outputs": [
    {
     "name": "stdout",
     "output_type": "stream",
     "text": [
      "************************************************************\n",
      "*                                                          *\n",
      "*                            3                             *\n",
      "*                                                          *\n",
      "************************************************************\n"
     ]
    }
   ],
   "source": [
    "def sumar(a, b, enmarcar=False):\n",
    "    result = a + b\n",
    "    if enmarcar:\n",
    "        return marquesina(result)\n",
    "    return result\n",
    "\n",
    "print(sumar(1, 2, True))\n"
   ]
  },
  {
   "cell_type": "code",
   "execution_count": 70,
   "metadata": {},
   "outputs": [
    {
     "data": {
      "text/plain": [
       "'************************************************************\\n*                                                          *\\n*                            3                             *\\n*                                                          *\\n************************************************************'"
      ]
     },
     "execution_count": 70,
     "metadata": {},
     "output_type": "execute_result"
    }
   ],
   "source": [
    "sumar(1, 2, 3)  # ups!"
   ]
  },
  {
   "cell_type": "markdown",
   "metadata": {},
   "source": [
    "Se soluciona con un asterístico para avisar que **comienzan argumentos asignables sólo por nombre**"
   ]
  },
  {
   "cell_type": "code",
   "execution_count": 72,
   "metadata": {},
   "outputs": [
    {
     "data": {
      "text/plain": [
       "'************************************************************\\n*                                                          *\\n*                            3                             *\\n*                                                          *\\n************************************************************'"
      ]
     },
     "execution_count": 72,
     "metadata": {},
     "output_type": "execute_result"
    }
   ],
   "source": [
    "def sumar(a, b, *, enmarcar=False):\n",
    "    result = a + b\n",
    "    if enmarcar:\n",
    "        return marquesina(result)\n",
    "    return result\n",
    "\n",
    "sumar(1,2, enmarcar=True)"
   ]
  },
  {
   "cell_type": "code",
   "execution_count": 73,
   "metadata": {},
   "outputs": [
    {
     "name": "stdout",
     "output_type": "stream",
     "text": [
      "************************************************************\n",
      "*                                                          *\n",
      "*                            3                             *\n",
      "*                                                          *\n",
      "************************************************************\n"
     ]
    }
   ],
   "source": [
    "print(sumar(1,2, enmarcar=True))"
   ]
  },
  {
   "cell_type": "markdown",
   "metadata": {},
   "source": [
    "Despues de todo, explícito es mejor que implícito, ente otras cosas "
   ]
  },
  {
   "cell_type": "code",
   "execution_count": 131,
   "metadata": {},
   "outputs": [
    {
     "name": "stdout",
     "output_type": "stream",
     "text": [
      "The Zen of Python, by Tim Peters\n",
      "\n",
      "Beautiful is better than ugly.\n",
      "Explicit is better than implicit.\n",
      "Simple is better than complex.\n",
      "Complex is better than complicated.\n",
      "Flat is better than nested.\n",
      "Sparse is better than dense.\n",
      "Readability counts.\n",
      "Special cases aren't special enough to break the rules.\n",
      "Although practicality beats purity.\n",
      "Errors should never pass silently.\n",
      "Unless explicitly silenced.\n",
      "In the face of ambiguity, refuse the temptation to guess.\n",
      "There should be one-- and preferably only one --obvious way to do it.\n",
      "Although that way may not be obvious at first unless you're Dutch.\n",
      "Now is better than never.\n",
      "Although never is often better than *right* now.\n",
      "If the implementation is hard to explain, it's a bad idea.\n",
      "If the implementation is easy to explain, it may be a good idea.\n",
      "Namespaces are one honking great idea -- let's do more of those!\n"
     ]
    }
   ],
   "source": [
    "%%python3\n",
    "import this"
   ]
  },
  {
   "cell_type": "markdown",
   "metadata": {},
   "source": [
    "### Espacios de nombre y paso por asignación\n",
    "\n",
    "Una función define un **espacio de nombre** (namespace), es decir, un contexto donde un nombre de variable refiere a un objeto unívoco dentro de ese espacio. Si un nombre no existe en el espacio de nombre local, se busca en el espacio global (módulo o sesión)\n"
   ]
  },
  {
   "cell_type": "code",
   "execution_count": 47,
   "metadata": {},
   "outputs": [
    {
     "data": {
      "text/plain": [
       "3.14"
      ]
     },
     "execution_count": 47,
     "metadata": {},
     "output_type": "execute_result"
    }
   ],
   "source": [
    "pi = 3.14\n",
    "\n",
    "def area(r):\n",
    "    return pi * r * r       # pi no está en en el espacio local, se usa el definido fuera de la función\n",
    "\n",
    "r1 =1\n",
    "area(r1)"
   ]
  },
  {
   "cell_type": "code",
   "execution_count": 57,
   "metadata": {},
   "outputs": [
    {
     "name": "stdout",
     "output_type": "stream",
     "text": [
      "3.1415\n",
      "3.14\n"
     ]
    }
   ],
   "source": [
    "pi = 3.14\n",
    "\n",
    "def area2(r, pi = 3.1415):\n",
    "    return pi * r * r      # en este caso, se usa el pi pasado a la función\n",
    "\n",
    "print(area2(1))\n",
    "print(pi)                      # pero afuera sigue valiendo el del espacio global"
   ]
  },
  {
   "cell_type": "markdown",
   "metadata": {},
   "source": [
    "tip: dentro de cualquier namespace, la función `locals()` devuelve el diccionario de nombres definidos"
   ]
  },
  {
   "cell_type": "code",
   "execution_count": 58,
   "metadata": {},
   "outputs": [
    {
     "name": "stdout",
     "output_type": "stream",
     "text": [
      "{'BLAH': 'bleh', 'b': 'algo', 'a': '1'}\n"
     ]
    }
   ],
   "source": [
    "def namespaces(a, b):\n",
    "    BLAH = 'bleh'\n",
    "    print(locals())    \n",
    "\n",
    "namespaces('1', b='algo')"
   ]
  },
  {
   "cell_type": "markdown",
   "metadata": {},
   "source": [
    "En python se dice que los argumentos se pasan \"por asignación\", es decir, se asigna un nombre en el espacio de nombres local a un objeto existente, independientemente de si ya tiene un nombre en el espacio global.  Pero si ese objeto es mutable, la función podría modificar el objeto\n"
   ]
  },
  {
   "cell_type": "code",
   "execution_count": 138,
   "metadata": {},
   "outputs": [
    {
     "name": "stdout",
     "output_type": "stream",
     "text": [
      "[10, 'b']\n"
     ]
    }
   ],
   "source": [
    "def f2(l):\n",
    "    l[0] = 10   \n",
    "    return l\n",
    "\n",
    "\n",
    "lista = ['a', 'b']\n",
    "print(f2(lista))"
   ]
  },
  {
   "cell_type": "code",
   "execution_count": 140,
   "metadata": {},
   "outputs": [
    {
     "name": "stdout",
     "output_type": "stream",
     "text": [
      "[10, 'b']\n"
     ]
    },
    {
     "data": {
      "text/plain": [
       "['a', 'b']"
      ]
     },
     "execution_count": 140,
     "metadata": {},
     "output_type": "execute_result"
    }
   ],
   "source": [
    "def f3(l):\n",
    "    l1 = l.copy()\n",
    "    l1[0] = 10\n",
    "    return l1\n",
    "\n",
    "\n",
    "lista = ['a', 'b']\n",
    "print(f3(lista))\n",
    "lista"
   ]
  },
  {
   "cell_type": "code",
   "execution_count": 75,
   "metadata": {},
   "outputs": [
    {
     "data": {
      "text/plain": [
       "['a', 'b']"
      ]
     },
     "execution_count": 75,
     "metadata": {},
     "output_type": "execute_result"
    }
   ],
   "source": [
    "# pero se modificó el objeto fuera de la funcion\n",
    "lista"
   ]
  },
  {
   "cell_type": "markdown",
   "metadata": {},
   "source": [
    "En general, siempre es mejor que la funciones devuelvan objetos nuevos"
   ]
  },
  {
   "cell_type": "code",
   "execution_count": 74,
   "metadata": {},
   "outputs": [
    {
     "name": "stdout",
     "output_type": "stream",
     "text": [
      "[10, 'b']\n"
     ]
    },
    {
     "data": {
      "text/plain": [
       "['a', 'b']"
      ]
     },
     "execution_count": 74,
     "metadata": {},
     "output_type": "execute_result"
    }
   ],
   "source": [
    "def f2(l):\n",
    "    return [10] + l[1:]\n",
    "\n",
    "lista = ['a', 'b']\n",
    "print(f2(lista))\n",
    "lista"
   ]
  },
  {
   "cell_type": "markdown",
   "metadata": {},
   "source": [
    "### Ejercicios \n",
    "\n",
    "* Una función puede retornar cualquier objeto y en Python todo es un objeto. Defina una [función de orden superior](https://es.wikipedia.org/wiki/Funci%C3%B3n_de_orden_superior) (función que devuelve funciones) llamada `lineal` que dados los coeficientes `a` y `b` devuelve $$f(x) = ax + b$$\n",
    "\n",
    "<!-- https://gist.githubusercontent.com/mgaitan/a5fac459bf360f54d96e/raw/3b0d50048503399662cca97fb7c62025cdecb6cc/lineal_factory.py -->\n",
    "\n",
    "* Mejorar la función anterior, generando un docstring dinámico para cada función devuelta indicando la función lineal específica que resuelve"
   ]
  },
  {
   "cell_type": "code",
   "execution_count": 52,
   "metadata": {},
   "outputs": [],
   "source": [
    "# %load https://gist.githubusercontent.com/mgaitan/a5fac459bf360f54d96e/raw/3b0d50048503399662cca97fb7c62025cdecb6cc/lineal_factory.py\n",
    "def lineal(a,b):\n",
    "    def f(x):\n",
    "        return a*x + b\n",
    "    f.__doc__ = \"Calcula {}x + {}\".format(a, b)\n",
    "    return f"
   ]
  },
  {
   "cell_type": "code",
   "execution_count": 53,
   "metadata": {},
   "outputs": [
    {
     "data": {
      "text/plain": [
       "'Calcula 3x + 2'"
      ]
     },
     "execution_count": 53,
     "metadata": {},
     "output_type": "execute_result"
    }
   ],
   "source": [
    "l = lineal(3, 2)\n",
    "l.__doc__"
   ]
  }
 ],
 "metadata": {
  "kernelspec": {
   "display_name": "Python 3",
   "language": "python",
   "name": "python3"
  },
  "language_info": {
   "codemirror_mode": {
    "name": "ipython",
    "version": 3
   },
   "file_extension": ".py",
   "mimetype": "text/x-python",
   "name": "python",
   "nbconvert_exporter": "python",
   "pygments_lexer": "ipython3",
   "version": "3.6.5"
  }
 },
 "nbformat": 4,
 "nbformat_minor": 1
}
